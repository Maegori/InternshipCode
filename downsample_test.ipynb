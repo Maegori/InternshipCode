{
 "cells": [
  {
   "cell_type": "code",
   "execution_count": 1,
   "metadata": {},
   "outputs": [],
   "source": [
    "import scipy.signal as sig\n",
    "import numpy as np\n",
    "import time\n",
    "\n",
    "from open_ephys.analysis import Session\n",
    "import pyopenephys as oe\n"
   ]
  },
  {
   "cell_type": "code",
   "execution_count": 2,
   "metadata": {},
   "outputs": [
    {
     "name": "stdout",
     "output_type": "stream",
     "text": [
      "Loading Open-Ephys: reading settings...\n",
      "Decoding data from  binary  format\n",
      "Reading oebin file\n",
      "Reading oebin file\n"
     ]
    }
   ],
   "source": [
    "DATA_FOLDER = \"/data/jpatriota/R14/3.Probe test/2021-09-23_00-16-10\"\n",
    "EXP_FOLDER = \"/data/jpatriota/R14/3.Probe test/2021-09-23_00-16-10/Record Node 107/\"\n",
    "session = Session(DATA_FOLDER)\n",
    "\n",
    "info = session.recordnodes[0].recordings[0].info['continuous'][0]\n",
    "Fs = info['sample_rate']\n",
    "channels = info['channels']\n",
    "channel_names = [c['channel_name'] for c in channels]\n",
    "unique_channel_names = np.unique(channel_names)\n",
    "unique_data_channel_names = np.unique(channel_names[0:127])\n",
    "brain_regions = [\"A1T\", \"BLAT\", \"HPCT\", \"PFCT\"]\n",
    "\n",
    "# dead_channels = {105, 106, 90, 91, 66, 67, 68, 69, 70, 36, 37, 38, 125, 126, 127, 122, 111, 97, 98, 101, 102, 84, 29, 30, 31}\n",
    "\n",
    "\n",
    "# cannot load data via session (permission denied)\n",
    "# samples = session.recordnodes[0].recordings[0].continuous[0].samples\n",
    "\n",
    "data_file = oe.File(EXP_FOLDER)\n",
    "experiments = data_file.experiments\n",
    "\n",
    "experiment = experiments[0]\n",
    "recordings = experiment.recordings\n",
    "\n",
    "rec1 = recordings[0]\n",
    "\n",
    "signal = rec1.analog_signals[0].signal\n",
    "# ts = np.asarray(rec1.analog_signals[0].times)"
   ]
  },
  {
   "cell_type": "code",
   "execution_count": 3,
   "metadata": {},
   "outputs": [],
   "source": [
    "fs_target = 1000\n",
    "ds_factor = Fs // fs_target\n",
    "ds_length = signal.shape[1] // ds_factor"
   ]
  },
  {
   "cell_type": "code",
   "execution_count": 4,
   "metadata": {},
   "outputs": [
    {
     "name": "stdout",
     "output_type": "stream",
     "text": [
      "Loop time: 103.10846590995789\n"
     ]
    }
   ],
   "source": [
    "t0 = time.time()\n",
    "downsampled_signal_loop = np.empty((signal.shape[0], ds_length))\n",
    "# downsampled_ts = np.empty(ds_length)\n",
    "\n",
    "for idx in range(ds_length):\n",
    "    downsampled_signal_loop[:, idx] = signal[:, idx * ds_factor] \n",
    "    # downsampled_ts[idx] = ts[idx * ds_factor]\n",
    "\n",
    "t1 = time.time()\n",
    "print(f\"Loop time: {t1 - t0}\")"
   ]
  },
  {
   "cell_type": "code",
   "execution_count": 7,
   "metadata": {},
   "outputs": [
    {
     "name": "stdout",
     "output_type": "stream",
     "text": [
      "dec time: 109.44291973114014\n"
     ]
    }
   ],
   "source": [
    "t0 = time.time()\n",
    "ds_idx = np.arange(0, signal.shape[1]-1, ds_factor, dtype=int)\n",
    "downsampled_signal_dec = signal[:, ds_idx]\n",
    "t1 = time.time()\n",
    "print(f\"dec time: {t1 - t0}\")\n",
    "\n"
   ]
  },
  {
   "cell_type": "code",
   "execution_count": 8,
   "metadata": {},
   "outputs": [
    {
     "name": "stdout",
     "output_type": "stream",
     "text": [
      "[[-1.0400e+02  1.0800e+02  7.2000e+01 ... -6.8200e+02 -5.9900e+02\n",
      "  -1.8500e+02]\n",
      " [-2.0000e+01  1.7500e+02  1.3700e+02 ... -8.6600e+02 -8.7600e+02\n",
      "  -5.6300e+02]\n",
      " [-1.2300e+02  7.5000e+01  6.5000e+01 ... -9.0400e+02 -9.8300e+02\n",
      "  -6.0400e+02]\n",
      " ...\n",
      " [ 2.7500e+02  2.5100e+02  2.3300e+02 ...  2.4300e+02  2.5900e+02\n",
      "   2.5900e+02]\n",
      " [-2.8459e+04 -2.8471e+04 -2.8465e+04 ... -3.0455e+04 -3.0459e+04\n",
      "  -3.0463e+04]\n",
      " [-2.6686e+04 -2.6697e+04 -2.6689e+04 ... -3.0539e+04 -3.0543e+04\n",
      "  -3.0547e+04]]\n",
      "[[  -104    108     72 ...   -599   -185   -465]\n",
      " [   -20    175    137 ...   -876   -563   -800]\n",
      " [  -123     75     65 ...   -983   -604   -750]\n",
      " ...\n",
      " [   275    251    233 ...    259    259    271]\n",
      " [-28459 -28471 -28465 ... -30459 -30463 -30453]\n",
      " [-26686 -26697 -26689 ... -30543 -30547 -30537]]\n"
     ]
    }
   ],
   "source": [
    "print(downsampled_signal_loop)\n",
    "print(downsampled_signal_dec)"
   ]
  },
  {
   "cell_type": "code",
   "execution_count": null,
   "metadata": {},
   "outputs": [],
   "source": []
  }
 ],
 "metadata": {
  "interpreter": {
   "hash": "fc6a29f87a7c331dfd6388f8a8217da8a11f04b1044ee8ceb8da27722f9cce14"
  },
  "kernelspec": {
   "display_name": "Python 3.9.7 ('env': conda)",
   "language": "python",
   "name": "python3"
  },
  "language_info": {
   "codemirror_mode": {
    "name": "ipython",
    "version": 3
   },
   "file_extension": ".py",
   "mimetype": "text/x-python",
   "name": "python",
   "nbconvert_exporter": "python",
   "pygments_lexer": "ipython3",
   "version": "3.9.7"
  },
  "orig_nbformat": 4
 },
 "nbformat": 4,
 "nbformat_minor": 2
}
